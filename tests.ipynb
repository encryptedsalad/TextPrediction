{
 "cells": [
  {
   "cell_type": "code",
   "execution_count": null,
   "metadata": {},
   "outputs": [
    {
     "name": "stdout",
     "output_type": "stream",
     "text": [
      "Epoch 1\n",
      "-------------------------------\n",
      "loss: 4.278908  [    0/17809]\n",
      "sample output:  ttuwLV(Ah4cokd0.BxAY(bFcA1 QVDya\tEcM(XQIUDHkXH1b0owRgmlrDA4qkWGB(DnA)ridxUpft!RdkgGVPwD1g:5MH1G801)UR\n",
      "loss: 2.936989  [  100/17809]\n",
      "sample output:  the ao    a                                         al                  at                  a        \n",
      "loss: 2.325837  [  200/17809]\n",
      "sample output:  t                                                                                                    \n"
     ]
    },
    {
     "ename": "KeyboardInterrupt",
     "evalue": "",
     "output_type": "error",
     "traceback": [
      "\u001b[1;31m---------------------------------------------------------------------------\u001b[0m",
      "\u001b[1;31mKeyboardInterrupt\u001b[0m                         Traceback (most recent call last)",
      "Cell \u001b[1;32mIn[1], line 14\u001b[0m\n\u001b[0;32m     12\u001b[0m \u001b[38;5;28;01mfor\u001b[39;00m t \u001b[38;5;129;01min\u001b[39;00m \u001b[38;5;28mrange\u001b[39m(EPOCHS):\n\u001b[0;32m     13\u001b[0m     \u001b[38;5;28mprint\u001b[39m(\u001b[38;5;124mf\u001b[39m\u001b[38;5;124m\"\u001b[39m\u001b[38;5;124mEpoch \u001b[39m\u001b[38;5;132;01m{\u001b[39;00mt\u001b[38;5;241m+\u001b[39m\u001b[38;5;241m1\u001b[39m\u001b[38;5;132;01m}\u001b[39;00m\u001b[38;5;130;01m\\n\u001b[39;00m\u001b[38;5;124m-------------------------------\u001b[39m\u001b[38;5;124m\"\u001b[39m)\n\u001b[1;32m---> 14\u001b[0m     model\u001b[38;5;241m.\u001b[39mtrain_with_data(\u001b[38;5;124m\"\u001b[39m\u001b[38;5;124mdata/all_shakespeare.txt\u001b[39m\u001b[38;5;124m\"\u001b[39m, \u001b[38;5;241m300\u001b[39m)\n\u001b[0;32m     16\u001b[0m torch\u001b[38;5;241m.\u001b[39msave(model\u001b[38;5;241m.\u001b[39mstate_dict(), \u001b[38;5;124m\"\u001b[39m\u001b[38;5;124mmodels/shakespeare.pth\u001b[39m\u001b[38;5;124m\"\u001b[39m)\n",
      "File \u001b[1;32mc:\\Users\\archsine\\Documents\\Programming\\NeuralNets\\GRU.py:114\u001b[0m, in \u001b[0;36mGRUModel.train_with_data\u001b[1;34m(self, trn_data_path, batch_size, loss_fn, optimizer)\u001b[0m\n\u001b[0;32m    112\u001b[0m \u001b[38;5;28mself\u001b[39m\u001b[38;5;241m.\u001b[39mtrain()\n\u001b[0;32m    113\u001b[0m \u001b[38;5;28;01mfor\u001b[39;00m batch_num, batch \u001b[38;5;129;01min\u001b[39;00m \u001b[38;5;28menumerate\u001b[39m(parts):\n\u001b[1;32m--> 114\u001b[0m     pred \u001b[38;5;241m=\u001b[39m \u001b[38;5;28mself\u001b[39m(\u001b[38;5;28mself\u001b[39m\u001b[38;5;241m.\u001b[39mpackage_batch(batch))\n\u001b[0;32m    115\u001b[0m     expected \u001b[38;5;241m=\u001b[39m torch\u001b[38;5;241m.\u001b[39mtensor(batch)\u001b[38;5;241m.\u001b[39mto(device)\n\u001b[0;32m    116\u001b[0m     loss \u001b[38;5;241m=\u001b[39m loss_fn(pred, expected)\n",
      "File \u001b[1;32mc:\\Users\\archsine\\Documents\\Programming\\NeuralNets\\GRU.py:41\u001b[0m, in \u001b[0;36mGRUModel.package_batch\u001b[1;34m(self, batch)\u001b[0m\n\u001b[0;32m     39\u001b[0m out_list \u001b[38;5;241m=\u001b[39m []\n\u001b[0;32m     40\u001b[0m \u001b[38;5;28;01mfor\u001b[39;00m token \u001b[38;5;129;01min\u001b[39;00m batch:\n\u001b[1;32m---> 41\u001b[0m     out_list\u001b[38;5;241m.\u001b[39mappend(F\u001b[38;5;241m.\u001b[39mone_hot(torch\u001b[38;5;241m.\u001b[39mtensor([token]), \u001b[38;5;28mself\u001b[39m\u001b[38;5;241m.\u001b[39mnum_tokens)\u001b[38;5;241m.\u001b[39mfloat()\u001b[38;5;241m.\u001b[39msqueeze(\u001b[38;5;241m0\u001b[39m)\u001b[38;5;241m.\u001b[39mto(device))\n\u001b[0;32m     42\u001b[0m \u001b[38;5;28;01mreturn\u001b[39;00m torch\u001b[38;5;241m.\u001b[39mstack(out_list)\n",
      "\u001b[1;31mKeyboardInterrupt\u001b[0m: "
     ]
    }
   ],
   "source": [
    "from StackedGRU import StackedGRU\n",
    "from GRU import GRUModel\n",
    "import torch\n",
    "from Tokens import AlphabetTokenizer\n",
    "\n",
    "device = torch.device(\"cuda\")\n",
    "alphabet_tokenizer = AlphabetTokenizer()\n",
    "\n",
    "model = GRUModel(alphabet_tokenizer, 1000).to(device)\n",
    "\n",
    "EPOCHS = 3\n",
    "for t in range(EPOCHS):\n",
    "    print(f\"Epoch {t+1}\\n-------------------------------\")\n",
    "    model.train_with_data(\"data/all_shakespeare.txt\", 300)\n",
    "    \n",
    "torch.save(model.state_dict(), \"models/shakespeare.pth\")"
   ]
  }
 ],
 "metadata": {
  "kernelspec": {
   "display_name": "base",
   "language": "python",
   "name": "python3"
  },
  "language_info": {
   "codemirror_mode": {
    "name": "ipython",
    "version": 3
   },
   "file_extension": ".py",
   "mimetype": "text/x-python",
   "name": "python",
   "nbconvert_exporter": "python",
   "pygments_lexer": "ipython3",
   "version": "3.11.5"
  }
 },
 "nbformat": 4,
 "nbformat_minor": 2
}
