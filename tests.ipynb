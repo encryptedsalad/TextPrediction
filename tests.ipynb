{
 "cells": [
  {
   "cell_type": "code",
   "execution_count": null,
   "metadata": {},
   "outputs": [],
   "source": [
    "from GRU import GRUModel\n",
    "import torch\n",
    "from Tokens import AlphabetTokenizer\n",
    "\n",
    "device = torch.device(\"mps\")\n",
    "alphabet_tokenizer = AlphabetTokenizer()\n",
    "\n",
    "model = GRUModel(alphabet_tokenizer, 400).to(device)\n",
    "\n",
    "EPOCHS = 3\n",
    "for t in range(EPOCHS):\n",
    "    print(f\"Epoch {t+1}\\n-------------------------------\")\n",
    "    model.train_with_data(\"data/all_shakespeare.txt\", 300)\n",
    "    \n",
    "torch.save(model.state_dict(), \"models/shakespeare.pth\")"
   ]
  }
 ],
 "metadata": {
  "kernelspec": {
   "display_name": "base",
   "language": "python",
   "name": "python3"
  },
  "language_info": {
   "codemirror_mode": {
    "name": "ipython",
    "version": 3
   },
   "file_extension": ".py",
   "mimetype": "text/x-python",
   "name": "python",
   "nbconvert_exporter": "python",
   "pygments_lexer": "ipython3",
   "version": "3.11.5"
  }
 },
 "nbformat": 4,
 "nbformat_minor": 2
}
